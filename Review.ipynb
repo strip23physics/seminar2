{
 "cells": [
  {
   "cell_type": "code",
   "execution_count": 1,
   "metadata": {},
   "outputs": [
    {
     "name": "stdout",
     "output_type": "stream",
     "text": [
      "Hello World!\n"
     ]
    }
   ],
   "source": [
    "#This is a single line comment\n",
    "\n",
    "'''This is a multi line comment\n",
    "Type whatever you want between the triple quotation marks\n",
    "\n",
    "Press shift+enter and check\n",
    "'''\n",
    "\n",
    "print(\"Hello World!\")\n",
    "#print(Hello World) makes an error"
   ]
  },
  {
   "cell_type": "code",
   "execution_count": 2,
   "metadata": {},
   "outputs": [],
   "source": [
    "#Python Objects are either scalar(cannot be subdivided) \n",
    "#or non-scalar(have internal structure that can be accessed)\n",
    "\n",
    "#Scalar Objects: int, float, bool, NoneType\n",
    "#Non-scalar Objects: str, list, dict, set, tuple\n",
    "\n",
    "#How to check? Using type()\n",
    "\n",
    "#Check the types of 2, 2.5, \"home\", True, False, None"
   ]
  },
  {
   "cell_type": "code",
   "execution_count": null,
   "metadata": {},
   "outputs": [],
   "source": []
  },
  {
   "cell_type": "code",
   "execution_count": 3,
   "metadata": {},
   "outputs": [],
   "source": [
    "#Basic Mathematical Operations\n",
    "#i+j: addition\n",
    "#i-j: subtraction\n",
    "#i*j: multiplication\n",
    "#i/j: division\n",
    "#i%j: remainder\n",
    "#i//j: quotient\n",
    "#i**j: power\n",
    "\n",
    "#Try them out. Use int and float. What are the types of the results?\n"
   ]
  },
  {
   "cell_type": "code",
   "execution_count": null,
   "metadata": {},
   "outputs": [],
   "source": []
  },
  {
   "cell_type": "code",
   "execution_count": 4,
   "metadata": {},
   "outputs": [],
   "source": [
    "#Operator Precedence\n",
    "#2*3+4\n",
    "#2+3*5\n",
    "#What are the results?\n",
    "#What about 2**(3+5) and 2**3+5\n",
    "\n"
   ]
  },
  {
   "cell_type": "code",
   "execution_count": null,
   "metadata": {},
   "outputs": [],
   "source": []
  }
 ],
 "metadata": {
  "kernelspec": {
   "display_name": "Python 3",
   "language": "python",
   "name": "python3"
  },
  "language_info": {
   "codemirror_mode": {
    "name": "ipython",
    "version": 3
   },
   "file_extension": ".py",
   "mimetype": "text/x-python",
   "name": "python",
   "nbconvert_exporter": "python",
   "pygments_lexer": "ipython3",
   "version": "3.6.6"
  }
 },
 "nbformat": 4,
 "nbformat_minor": 2
}
