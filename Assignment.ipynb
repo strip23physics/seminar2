{
 "cells": [
  {
   "cell_type": "code",
   "execution_count": null,
   "metadata": {},
   "outputs": [],
   "source": [
    "#Assignment binds name to value\n",
    "#Value stored in computer memory\n",
    "#Value retrieved by invoking the name\n",
    "\n",
    "#How?\n",
    "#Using =\n",
    "\n",
    "#Why?\n",
    "#Easier to reuse and change code\n",
    "#Names: lower_case_with_underscore \n",
    "\n",
    "height = 181.3\n",
    "height_in = height/2.54\n",
    "\n",
    "print(height, height_in)"
   ]
  },
  {
   "cell_type": "code",
   "execution_count": null,
   "metadata": {},
   "outputs": [],
   "source": [
    "#Type your height and see what changes\n",
    "height = \n",
    "\n",
    "print(height, height_in)"
   ]
  },
  {
   "cell_type": "code",
   "execution_count": null,
   "metadata": {},
   "outputs": [],
   "source": [
    "#What about this time?\n",
    "\n",
    "height = \n",
    "height_in = height/2.54\n",
    "\n",
    "print(height, height_in)"
   ]
  },
  {
   "cell_type": "code",
   "execution_count": null,
   "metadata": {},
   "outputs": [],
   "source": [
    "#What do you think the result is?\n",
    "\n",
    "a = 3\n",
    "b = a\n",
    "a = 2 \n",
    "\n",
    "print(a,b)"
   ]
  }
 ],
 "metadata": {
  "kernelspec": {
   "display_name": "Python 3",
   "language": "python",
   "name": "python3"
  },
  "language_info": {
   "codemirror_mode": {
    "name": "ipython",
    "version": 3
   },
   "file_extension": ".py",
   "mimetype": "text/x-python",
   "name": "python",
   "nbconvert_exporter": "python",
   "pygments_lexer": "ipython3",
   "version": "3.6.6"
  }
 },
 "nbformat": 4,
 "nbformat_minor": 2
}
