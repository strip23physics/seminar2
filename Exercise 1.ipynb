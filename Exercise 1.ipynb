{
 "cells": [
  {
   "cell_type": "code",
   "execution_count": 1,
   "metadata": {},
   "outputs": [
    {
     "ename": "SyntaxError",
     "evalue": "unexpected EOF while parsing (<ipython-input-1-d385e9ff0f75>, line 17)",
     "output_type": "error",
     "traceback": [
      "\u001b[0;36m  File \u001b[0;32m\"<ipython-input-1-d385e9ff0f75>\"\u001b[0;36m, line \u001b[0;32m17\u001b[0m\n\u001b[0;31m    #Your Code Here!\u001b[0m\n\u001b[0m                    ^\u001b[0m\n\u001b[0;31mSyntaxError\u001b[0m\u001b[0;31m:\u001b[0m unexpected EOF while parsing\n"
     ]
    }
   ],
   "source": [
    "# A leap year (also known as an intercalary year or bissextile year) is a calendar year containing \n",
    "# one additional day (or, in the case of lunisolar calendars, a month) added to keep the calendar year \n",
    "# synchronized with the astronomical or seasonal year.[1] Because seasons and astronomical events do not\n",
    "# repeat in a whole number of days, calendars that have the same number of days in each year drift over time \n",
    "# with respect to the event that the year is supposed to track. By inserting (also called intercalating) an \n",
    "# additional day or month into the year, the drift can be corrected. \n",
    "# A year that is not a leap year is called a common year.\n",
    "\n",
    "# For example, in the Gregorian calendar, each leap year has 366 days instead of the usual 365, \n",
    "# by extending February to 29 days rather than the common 28.\n",
    "# These extra days occur in years which are multiples of four (with the exception of years \n",
    "# divisible by 100 but not by 400). \n",
    "\n",
    "# Function is_leap_year should return True when the year is a leap year and False otherwise.\n",
    "\n",
    "def is_leap_year(year):\n",
    "    #Your Code Here!"
   ]
  },
  {
   "cell_type": "code",
   "execution_count": 2,
   "metadata": {},
   "outputs": [
    {
     "ename": "NameError",
     "evalue": "name 'is_leap_year' is not defined",
     "output_type": "error",
     "traceback": [
      "\u001b[0;31m---------------------------------------------------------------------------\u001b[0m",
      "\u001b[0;31mNameError\u001b[0m                                 Traceback (most recent call last)",
      "\u001b[0;32m<ipython-input-2-2d4d772bfcb4>\u001b[0m in \u001b[0;36m<module>\u001b[0;34m()\u001b[0m\n\u001b[1;32m      6\u001b[0m \u001b[0mnum_fail\u001b[0m \u001b[0;34m=\u001b[0m \u001b[0;36m0\u001b[0m\u001b[0;34m\u001b[0m\u001b[0m\n\u001b[1;32m      7\u001b[0m \u001b[0;32mfor\u001b[0m \u001b[0;34m(\u001b[0m\u001b[0myear\u001b[0m\u001b[0;34m,\u001b[0m \u001b[0manswer\u001b[0m\u001b[0;34m)\u001b[0m \u001b[0;32min\u001b[0m \u001b[0mtest_cases\u001b[0m\u001b[0;34m:\u001b[0m\u001b[0;34m\u001b[0m\u001b[0m\n\u001b[0;32m----> 8\u001b[0;31m     \u001b[0;32mif\u001b[0m \u001b[0mis_leap_year\u001b[0m\u001b[0;34m(\u001b[0m\u001b[0myear\u001b[0m\u001b[0;34m)\u001b[0m \u001b[0;34m==\u001b[0m \u001b[0manswer\u001b[0m\u001b[0;34m:\u001b[0m\u001b[0;34m\u001b[0m\u001b[0m\n\u001b[0m\u001b[1;32m      9\u001b[0m         \u001b[0mnum_pass\u001b[0m \u001b[0;34m=\u001b[0m \u001b[0mnum_pass\u001b[0m \u001b[0;34m+\u001b[0m \u001b[0;36m1\u001b[0m\u001b[0;34m\u001b[0m\u001b[0m\n\u001b[1;32m     10\u001b[0m     \u001b[0;32melse\u001b[0m\u001b[0;34m:\u001b[0m\u001b[0;34m\u001b[0m\u001b[0m\n",
      "\u001b[0;31mNameError\u001b[0m: name 'is_leap_year' is not defined"
     ]
    }
   ],
   "source": [
    "#This is for testing!\n",
    "\n",
    "\n",
    "test_cases = [(1984, True), (1966, False), (1600, True), (1800, False), (1965, False)]\n",
    "num_pass = 0\n",
    "num_fail = 0\n",
    "for (year, answer) in test_cases:\n",
    "    if is_leap_year(year) == answer:\n",
    "        num_pass = num_pass + 1\n",
    "    else:\n",
    "        num_fail = num_fail + 1\n",
    "print(\"{} cases out of {} passed and {} cases failed!\".format(num_pass, num_pass+num_fail, num_fail))"
   ]
  },
  {
   "cell_type": "code",
   "execution_count": null,
   "metadata": {},
   "outputs": [],
   "source": []
  }
 ],
 "metadata": {
  "kernelspec": {
   "display_name": "Python 3",
   "language": "python",
   "name": "python3"
  },
  "language_info": {
   "codemirror_mode": {
    "name": "ipython",
    "version": 3
   },
   "file_extension": ".py",
   "mimetype": "text/x-python",
   "name": "python",
   "nbconvert_exporter": "python",
   "pygments_lexer": "ipython3",
   "version": "3.6.6"
  }
 },
 "nbformat": 4,
 "nbformat_minor": 2
}
